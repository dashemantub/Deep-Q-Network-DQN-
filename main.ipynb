{
  "nbformat": 4,
  "nbformat_minor": 0,
  "metadata": {
    "colab": {
      "name": "main.ipynb",
      "provenance": [],
      "collapsed_sections": []
    },
    "kernelspec": {
      "display_name": "Python 3",
      "language": "python",
      "name": "python3"
    },
    "language_info": {
      "codemirror_mode": {
        "name": "ipython",
        "version": 3
      },
      "file_extension": ".py",
      "mimetype": "text/x-python",
      "name": "python",
      "nbconvert_exporter": "python",
      "pygments_lexer": "ipython3",
      "version": "3.6.5"
    }
  },
  "cells": [
    {
      "cell_type": "markdown",
      "metadata": {
        "id": "3nvtmDDRMQtQ"
      },
      "source": [
        "# Project 3: Reinforcement Learning (Deep Q Network using Pytorch)\n",
        "1. We will be using Pytorch for this project. Your are encouraged to go through the \"Pytorch 60 minutes blitz\" (https://pytorch.org/tutorials/beginner/deep_learning_60min_blitz.html) to learn more about Pytorch.\n",
        "2. Using Google Colab and GPU is recommended for this project"
      ]
    },
    {
      "cell_type": "code",
      "metadata": {
        "id": "w2XZGHowv7S_",
        "colab": {
          "base_uri": "https://localhost:8080/"
        },
        "outputId": "ab8c814a-4b3e-451d-b168-a75fabf429be"
      },
      "source": [
        "#Install the following packages\n",
        "!pip install gym\n",
        "!apt-get install python-opengl -y\n",
        "!apt install xvfb -y\n",
        "!pip install pyvirtualdisplay\n",
        "!pip install piglet\n",
        "!sudo apt update\n",
        "!sudo apt install xvfb"
      ],
      "execution_count": 1,
      "outputs": [
        {
          "output_type": "stream",
          "text": [
            "Requirement already satisfied: gym in /usr/local/lib/python3.6/dist-packages (0.17.3)\n",
            "Requirement already satisfied: pyglet<=1.5.0,>=1.4.0 in /usr/local/lib/python3.6/dist-packages (from gym) (1.5.0)\n",
            "Requirement already satisfied: cloudpickle<1.7.0,>=1.2.0 in /usr/local/lib/python3.6/dist-packages (from gym) (1.3.0)\n",
            "Requirement already satisfied: scipy in /usr/local/lib/python3.6/dist-packages (from gym) (1.4.1)\n",
            "Requirement already satisfied: numpy>=1.10.4 in /usr/local/lib/python3.6/dist-packages (from gym) (1.18.5)\n",
            "Requirement already satisfied: future in /usr/local/lib/python3.6/dist-packages (from pyglet<=1.5.0,>=1.4.0->gym) (0.16.0)\n",
            "Reading package lists... Done\n",
            "Building dependency tree       \n",
            "Reading state information... Done\n",
            "python-opengl is already the newest version (3.1.0+dfsg-1).\n",
            "0 upgraded, 0 newly installed, 0 to remove and 67 not upgraded.\n",
            "Reading package lists... Done\n",
            "Building dependency tree       \n",
            "Reading state information... Done\n",
            "xvfb is already the newest version (2:1.19.6-1ubuntu4.8).\n",
            "0 upgraded, 0 newly installed, 0 to remove and 67 not upgraded.\n",
            "Requirement already satisfied: pyvirtualdisplay in /usr/local/lib/python3.6/dist-packages (1.3.2)\n",
            "Requirement already satisfied: EasyProcess in /usr/local/lib/python3.6/dist-packages (from pyvirtualdisplay) (0.3)\n",
            "Requirement already satisfied: piglet in /usr/local/lib/python3.6/dist-packages (1.0.0)\n",
            "Requirement already satisfied: piglet-templates in /usr/local/lib/python3.6/dist-packages (from piglet) (1.0.0)\n",
            "Requirement already satisfied: astunparse in /usr/local/lib/python3.6/dist-packages (from piglet-templates->piglet) (1.6.3)\n",
            "Requirement already satisfied: markupsafe in /usr/local/lib/python3.6/dist-packages (from piglet-templates->piglet) (1.1.1)\n",
            "Requirement already satisfied: attrs in /usr/local/lib/python3.6/dist-packages (from piglet-templates->piglet) (20.3.0)\n",
            "Requirement already satisfied: Parsley in /usr/local/lib/python3.6/dist-packages (from piglet-templates->piglet) (1.3)\n",
            "Requirement already satisfied: six<2.0,>=1.6.1 in /usr/local/lib/python3.6/dist-packages (from astunparse->piglet-templates->piglet) (1.15.0)\n",
            "Requirement already satisfied: wheel<1.0,>=0.23.0 in /usr/local/lib/python3.6/dist-packages (from astunparse->piglet-templates->piglet) (0.35.1)\n",
            "Ign:1 https://developer.download.nvidia.com/compute/cuda/repos/ubuntu1804/x86_64  InRelease\n",
            "Hit:2 https://cloud.r-project.org/bin/linux/ubuntu bionic-cran40/ InRelease\n",
            "Get:3 http://security.ubuntu.com/ubuntu bionic-security InRelease [88.7 kB]\n",
            "Ign:4 https://developer.download.nvidia.com/compute/machine-learning/repos/ubuntu1804/x86_64  InRelease\n",
            "Hit:5 https://developer.download.nvidia.com/compute/cuda/repos/ubuntu1804/x86_64  Release\n",
            "Hit:6 https://developer.download.nvidia.com/compute/machine-learning/repos/ubuntu1804/x86_64  Release\n",
            "Hit:7 http://archive.ubuntu.com/ubuntu bionic InRelease\n",
            "Get:10 http://archive.ubuntu.com/ubuntu bionic-updates InRelease [88.7 kB]\n",
            "Hit:11 http://ppa.launchpad.net/c2d4u.team/c2d4u4.0+/ubuntu bionic InRelease\n",
            "Hit:12 http://ppa.launchpad.net/graphics-drivers/ppa/ubuntu bionic InRelease\n",
            "Get:13 http://archive.ubuntu.com/ubuntu bionic-backports InRelease [74.6 kB]\n",
            "Get:14 http://archive.ubuntu.com/ubuntu bionic-updates/universe amd64 Packages [2,134 kB]\n",
            "Fetched 2,386 kB in 3s (777 kB/s)\n",
            "Reading package lists... Done\n",
            "Building dependency tree       \n",
            "Reading state information... Done\n",
            "67 packages can be upgraded. Run 'apt list --upgradable' to see them.\n",
            "Reading package lists... Done\n",
            "Building dependency tree       \n",
            "Reading state information... Done\n",
            "xvfb is already the newest version (2:1.19.6-1ubuntu4.8).\n",
            "0 upgraded, 0 newly installed, 0 to remove and 67 not upgraded.\n"
          ],
          "name": "stdout"
        }
      ]
    },
    {
      "cell_type": "code",
      "metadata": {
        "id": "uxnBR1RSwH4v"
      },
      "source": [
        "# Do NOT change\n",
        "import os\n",
        "from pyvirtualdisplay import Display\n",
        "\n",
        "import gym\n",
        "from gym import logger as gymlogger\n",
        "from gym.wrappers import Monitor\n",
        "gymlogger.set_level(40) # error only\n",
        "import tensorflow as tf\n",
        "import numpy as np\n",
        "import random\n",
        "import matplotlib\n",
        "import matplotlib.pyplot as plt\n",
        "\n",
        "import math\n",
        "import glob\n",
        "import io\n",
        "import base64\n",
        "from IPython.display import HTML\n",
        "from IPython.display import clear_output\n",
        "\n",
        "from IPython import display as ipythondisplay\n",
        "import PIL\n",
        "\n",
        "import torch\n",
        "import torch.nn as nn\n",
        "from torch import optim\n",
        "import torch.nn.functional as F\n",
        "import torchvision.transforms as T\n",
        "\n",
        "from collections import namedtuple\n",
        "from tqdm import tqdm\n",
        "\n",
        "# Device contains the details of the compute platform: CPU or GPU\n",
        "device = torch.device('cuda' if torch.cuda.is_available() else 'cpu')\n",
        "%matplotlib inline"
      ],
      "execution_count": 2,
      "outputs": []
    },
    {
      "cell_type": "code",
      "metadata": {
        "id": "T4eQjq9rMdwM"
      },
      "source": [
        "# Do NOT change\n",
        "\n",
        "display = Display(visible=0, size=(1400, 900))\n",
        "display.start()\n",
        "\n",
        "# This code creates a virtual display to draw game images on. \n",
        "# If you are running locally, just ignore it\n",
        "\n",
        "if type(os.environ.get(\"DISPLAY\")) is not str or len(os.environ.get(\"DISPLAY\"))==0:\n",
        "    !bash ../xvfb start\n",
        "    %env DISPLAY=:1"
      ],
      "execution_count": 3,
      "outputs": []
    },
    {
      "cell_type": "code",
      "metadata": {
        "id": "5ouUwQoNwP5w"
      },
      "source": [
        "# Do NOT change\n",
        "\"\"\"\n",
        "Utility functions to enable video recording of gym environment and displaying it\n",
        "To enable video, just do \"env = wrap_env(env)\"\"\n",
        "\"\"\"\n",
        "\n",
        "def show_video():\n",
        "  mp4list = glob.glob('video/*.mp4')\n",
        "  if len(mp4list) > 0:\n",
        "    mp4 = mp4list[0]\n",
        "    video = io.open(mp4, 'r+b').read()\n",
        "    encoded = base64.b64encode(video)\n",
        "    ipythondisplay.display(HTML(data='''<video alt=\"test\" autoplay \n",
        "                loop controls style=\"height: 400px;\">\n",
        "                <source src=\"data:video/mp4;base64,{0}\" type=\"video/mp4\" />\n",
        "             </video>'''.format(encoded.decode('ascii'))))\n",
        "  else: \n",
        "    print(\"Could not find video\")\n",
        "    \n",
        "\n",
        "def wrap_env(env):\n",
        "  env = Monitor(env, './video', force=True)\n",
        "  return env"
      ],
      "execution_count": 4,
      "outputs": []
    },
    {
      "cell_type": "markdown",
      "metadata": {
        "id": "RfS69fG3MtB6"
      },
      "source": [
        "### We are going to use the cart pole environment by Gym\n",
        "Run the below code to see how a randon agent performs in the cart pole environment"
      ]
    },
    {
      "cell_type": "code",
      "metadata": {
        "colab": {
          "base_uri": "https://localhost:8080/",
          "height": 421
        },
        "id": "sevwVVdTwRyP",
        "outputId": "75a99de0-b8ae-42f4-85de-d38c7c3e92cf"
      },
      "source": [
        "env = gym.make('CartPole-v0')\n",
        "env = wrap_env(env)\n",
        "\n",
        "# Reset it, returns the starting frame\n",
        "frame = env.reset()\n",
        "\n",
        "is_done = False\n",
        "while not is_done:\n",
        "  # Perform a random action, returns the new frame, reward and whether the game is over\n",
        "  frame, reward, is_done, _ = env.step(env.action_space.sample())\n",
        "\n",
        "env.close()\n",
        "show_video()"
      ],
      "execution_count": 5,
      "outputs": [
        {
          "output_type": "display_data",
          "data": {
            "text/html": [
              "<video alt=\"test\" autoplay \n",
              "                loop controls style=\"height: 400px;\">\n",
              "                <source src=\"data:video/mp4;base64,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\" type=\"video/mp4\" />\n",
              "             </video>"
            ],
            "text/plain": [
              "<IPython.core.display.HTML object>"
            ]
          },
          "metadata": {
            "tags": []
          }
        }
      ]
    },
    {
      "cell_type": "markdown",
      "metadata": {
        "id": "g8o41sq7wpDX"
      },
      "source": [
        "# Replay Memory"
      ]
    },
    {
      "cell_type": "code",
      "metadata": {
        "id": "MnHGlSoN8DBC"
      },
      "source": [
        "\"\"\" Step 1: Define a Replay Buffer which can store all the experiences of the agent.\n",
        "    During training, we will sample uniformly from the replay buffer and train our DQN\n",
        "    The replay buffer is already implemented.\"\"\"\n",
        "\n",
        "class ReplayBuffer(object):\n",
        "    def __init__(self, capacity):\n",
        "        self.capacity = capacity\n",
        "        self.buffer = []\n",
        "        self.pos  = 0\n",
        "    \n",
        "    def push(self, state, action, reward, next_state, done):\n",
        "\n",
        "        state = np.expand_dims(state, 0)\n",
        "        next_state = np.expand_dims(next_state, 0)\n",
        "        \n",
        "        if len(self.buffer) < self.capacity:\n",
        "            self.buffer.append((state, action, reward, next_state, done))\n",
        "        else:\n",
        "            self.buffer[self.pos] = (state, action, reward, next_state, done)\n",
        "        \n",
        "        self.pos = (self.pos + 1) % self.capacity\n",
        "    \n",
        "    def sample(self, batch_size):\n",
        "        \n",
        "        indices = np.random.choice(len(self.buffer), batch_size, replace=False)\n",
        "        samples = [self.buffer[idx] for idx in indices]\n",
        "        \n",
        "        batch = np.asarray(list(zip(*samples)))\n",
        "        states = np.concatenate(batch[0])\n",
        "        actions = batch[1]\n",
        "        rewards = batch[2]\n",
        "        next_states = np.concatenate(batch[3])\n",
        "        dones = batch[4]\n",
        "        \n",
        "        return states, actions, rewards, next_states, dones, indices\n",
        "\n",
        "    def __len__(self):\n",
        "        return len(self.buffer)"
      ],
      "execution_count": 6,
      "outputs": []
    },
    {
      "cell_type": "code",
      "metadata": {
        "id": "PsjR_Swrwsgg"
      },
      "source": [
        "\"\"\" Step 2.1: Define the Deep Q Network using Pytorch\n",
        "    Step 2.2: Define the forward pass through the network\"\"\"\n",
        "\n",
        "class DQN(nn.Module):\n",
        "    def __init__(self, num_inputs, num_actions, device):\n",
        "        super().__init__()\n",
        "        \n",
        "        \"\"\"Define a fully connected neural network for predicting the Q values, given a state\n",
        "        The network will have 1 input layer, 1 hidden layer and 1 output layer.\n",
        "        Use 128 units for the hidden layer\"\"\"\n",
        "\n",
        "        # Step 2.1: Define a Sequential network in Pytorch\n",
        "        self.layers = nn.Sequential(\n",
        "          nn.Linear(num_inputs,128), #INPUT LAYER\n",
        "          nn.ReLU(),\n",
        "          nn.Linear(128,256), #HIDDEN LAYER\n",
        "          nn.ReLU(),\n",
        "          nn.Linear(256,num_actions), #OUTPUT LAYER\n",
        "        )\n",
        "\n",
        "        self.num_actions = num_actions\n",
        "        self.device = device\n",
        "        \n",
        "    def forward(self, x):\n",
        "        # Step 2.2: Forward pass through the Sequential network defined in Step 7 and return the output\n",
        "        # The output dimension should be batch, num_actions. The input x has batch, num_inputs dimensions\n",
        "        op = self.layers(x)\n",
        "        return op\n",
        "    \n",
        "    def act(self, state, epsilon):\n",
        "        state = torch.tensor(state).float().unsqueeze(0).to(self.device)\n",
        "        if random.random() > epsilon:\n",
        "            q_value = self.forward(state)\n",
        "            action  = q_value.max(1)[1].data[0].item()\n",
        "        else:\n",
        "            action = random.randrange(self.num_actions)\n",
        "        return action"
      ],
      "execution_count": 7,
      "outputs": []
    },
    {
      "cell_type": "code",
      "metadata": {
        "id": "XHU8tZhy4QFp"
      },
      "source": [
        "\"\"\" Implement the get_target function.\n",
        "    This function should perform the following:\n",
        "    Step 3.1: Get the bootstrapped Q values for the next state\n",
        "    Step 3.2: Calculate the TD target using the Bellman equation\"\"\"\n",
        "def get_target(model, next_state, reward, gamma, done):\n",
        "    \n",
        "    model.eval()\n",
        "    with torch.no_grad():\n",
        "        # Step 3.1: Get the bootstrapped Q values for the next state\n",
        "        next_q_values = model(next_state)\n",
        "        next_q_value = next_q_values.max(1)[0]\n",
        "        # Step 3.2: Calculate and return the TD target using the Bellman equation\n",
        "        expected_q_value = reward+gamma*next_q_value*(1-done)\n",
        "    return expected_q_value\n"
      ],
      "execution_count": 8,
      "outputs": []
    },
    {
      "cell_type": "code",
      "metadata": {
        "id": "bcjCmRVaADIf"
      },
      "source": [
        "\"\"\" Step 4.1: Sample a batch of examples from the replay buffer\n",
        "    Step 4.2: Get the predicted Q values of the sampled state by forward pass\n",
        "            through the DQN\n",
        "    Step 4.3: Gather only the Q values that correspond to the actions sampled \n",
        "            from the replay buffer  \n",
        "    Step 4.4: Get the target Q values of the sampled state by using the Bellamn \n",
        "            Equation. The Q value of next states are estimated by a forward pass \n",
        "            through the target network\n",
        "    Step 4.5: Calculate the Mean Squared Error loss between the predicted Q value \n",
        "            and target Q value by using the appropriate loss function in Pytorch.\n",
        "    Step 4.6: Back propagate the losses and update the model weights\n",
        "\"\"\"\n",
        "def compute_td_loss(batch_size, device, dqn_model, target_model):\n",
        "\n",
        "    # Step 4.1: Sample a batch of examples from the replay buffer\n",
        "    state, action, reward, next_state, done, indices = replay_buffer.sample(batch_size)\n",
        "\n",
        "    state = torch.tensor(state.astype('float') ).float().to(device) #batch, n\n",
        "    next_state = torch.tensor(next_state.astype('float') ).float().to(device)#batch, n\n",
        "    action = torch.tensor(action.astype('float') ).long().to(device)#batch\n",
        "    reward = torch.tensor(reward.astype('float') ).float().to(device)#batch\n",
        "    done = torch.tensor(done.astype('float') ).float().to(device)#batch\n",
        "    \n",
        "    dqn_model.train()\n",
        "    # Step 4.2: Get the predicted Q values of the sampled state by forward pass through the DQN\n",
        "    q_values = dqn_model(state)\n",
        "    # Step 4.3: Gather only the Q values that correspond to the actions sampled from the replay buffer  \n",
        "    q_value = q_values.gather(1, action.unsqueeze(1)).squeeze(1)\n",
        "    # Step 4.4: Get the target Q values of the sampled state by using the Bellamn Equation. \n",
        "    # The Q value of next states are estimated by a forward pass through the target network.\n",
        "    # Already implemented\n",
        "    expected_q_value = get_target(target_model, next_state, reward, gamma, done)\n",
        "    \n",
        "    # Step 4.5: Calculate the Meam Squared Error loss between the predicted Q value and target Q value\n",
        "    loss = F.mse_loss(q_value,expected_q_value)\n",
        "\n",
        "    # Step 4.6: Back propagate the losses and update the model weights\n",
        "    optimizer.zero_grad()\n",
        "    loss.backward()\n",
        "    optimizer.step()\n",
        "    return loss"
      ],
      "execution_count": 9,
      "outputs": []
    },
    {
      "cell_type": "code",
      "metadata": {
        "id": "t79IxPsAADNV"
      },
      "source": [
        "epsilon_start = 1.0\n",
        "epsilon_final = 0.01\n",
        "epsilon_decay = 500\n",
        "\n",
        "# This function decays the epsilon over time\n",
        "epsilon_by_frame = lambda frame_idx: epsilon_final + (epsilon_start - epsilon_final) * math.exp(-1. * frame_idx / epsilon_decay)"
      ],
      "execution_count": 10,
      "outputs": []
    },
    {
      "cell_type": "code",
      "metadata": {
        "id": "cBc-Zyro2nzw"
      },
      "source": [
        "#Utility function to plot reward and loss during training\n",
        "\n",
        "def plot(frame_idx, rewards, losses):\n",
        "    clear_output(True)\n",
        "    plt.figure(figsize=(20,5))\n",
        "    plt.subplot(131)\n",
        "    plt.title('frame %s. reward: %s' % (frame_idx, np.mean(rewards[-10:])))\n",
        "    plt.plot(rewards)\n",
        "    plt.subplot(132)\n",
        "    plt.title('loss')\n",
        "    plt.plot(losses)\n",
        "    plt.show()"
      ],
      "execution_count": 11,
      "outputs": []
    },
    {
      "cell_type": "code",
      "metadata": {
        "id": "GlAF3fp91z7m"
      },
      "source": [
        "# Step 5.1: Define learning rate\n",
        "# Already implemented\n",
        "learningrate = 1e-4\n",
        "\n",
        "# Step 5.2: Instantiate the DQN model and the Target model, and move the model to GPU (if using GPU else CPU)\n",
        "# Already implemented\n",
        "dqn_model = DQN(env.observation_space.shape[0], env.action_space.n, device).to(device)\n",
        "target_model  = DQN(env.observation_space.shape[0], env.action_space.n, device).to(device)\n",
        "\n",
        "# Step 5.3: Remember that the Target model have the same parameters as the DQN. \n",
        "# Hence, we need to copy the parameters of the DQN to the Target network.\n",
        "# Already implemented\n",
        "target_model.load_state_dict(dqn_model.state_dict())\n",
        "\n",
        "# Step 5.4: Define an optimizer for training the parameters.\n",
        "# We are going to use Adam, which generally works better than SGD\n",
        "# Already implemented\n",
        "optimizer = optim.Adam(dqn_model.parameters(), lr=learningrate)\n",
        "\n",
        "# Step 5.5: Initializing the replay buffer, and the training parameters\n",
        "# Already implemented\n",
        "replay_buffer = ReplayBuffer(100000)\n",
        "num_frames = 15000\n",
        "batch_size = 64\n",
        "gamma = 0.99\n",
        "\n",
        "losses = []\n",
        "all_rewards = []\n",
        "episode_reward = 0\n",
        "\n",
        "state = env.reset()"
      ],
      "execution_count": 12,
      "outputs": []
    },
    {
      "cell_type": "code",
      "metadata": {
        "id": "POhcjqdMSMzs"
      },
      "source": [
        "def basis_transform(state):\n",
        "    return np.asarray(state)"
      ],
      "execution_count": 13,
      "outputs": []
    },
    {
      "cell_type": "markdown",
      "metadata": {
        "id": "v1SnHP5PUg5P"
      },
      "source": [
        "# Now we finally start the training process"
      ]
    },
    {
      "cell_type": "code",
      "metadata": {
        "id": "YiTaD8Zf2pdg",
        "colab": {
          "base_uri": "https://localhost:8080/",
          "height": 336
        },
        "outputId": "dd416296-4677-4470-8fcc-d52e9641485b"
      },
      "source": [
        "for frame_idx in range(1, num_frames + 1):\n",
        "\n",
        "    epsilon = epsilon_by_frame(frame_idx)\n",
        "    # Step 6.1: Given the current state \"state\", sample an action from the Q network\n",
        "    action = dqn_model.act(state,epsilon)\n",
        "    \n",
        "    # Step 6.2: Perform the previously sampled action on the environment, and\n",
        "    # observe the next state and reward\n",
        "    next_state, reward, done, _ = env.step(action)\n",
        "    next_state = basis_transform(next_state)\n",
        "    # Step 6.3: Push the experience to the replay buffer. Already implemented\n",
        "    replay_buffer.push(state, action, reward, next_state, done)\n",
        "    state = next_state\n",
        "    episode_reward += reward\n",
        "    \n",
        "    if done:\n",
        "        # Step 6.4: If the episode terminates, we reset the episode and episode_reward.\n",
        "        # Already implemented\n",
        "        state = env.reset()\n",
        "        all_rewards.append(episode_reward)\n",
        "        episode_reward = 0\n",
        "        \n",
        "    if len(replay_buffer) > batch_size:\n",
        "        # Step 6.5: Only if we have enough examples in the replay buffer, we train the DQN\n",
        "        # Already implemented\n",
        "        loss = compute_td_loss(batch_size, device, dqn_model, target_model)\n",
        "        losses.append(loss.item())\n",
        "        \n",
        "    if frame_idx % 200 == 0:\n",
        "        # Step 6.6: Plot the reward and loss every 200 episode\n",
        "        # The environment is considered solved when the reward per episode is consistantly >= 190\n",
        "        # Already implemented\n",
        "        plot(frame_idx, all_rewards, losses)\n",
        "        \n",
        "    if frame_idx % 1000 == 0:\n",
        "        # Step 6.7: Copy the parameters of the DQN to the Target network after every 100 episodes\n",
        "        # Already implemented\n",
        "        target_model.load_state_dict(dqn_model.state_dict())"
      ],
      "execution_count": 16,
      "outputs": [
        {
          "output_type": "display_data",
          "data": {
            "image/png": "[encoded data removed]",
            "text/plain": [
              "<Figure size 1440x360 with 2 Axes>"
            ]
          },
          "metadata": {
            "tags": [],
            "needs_background": "light"
          }
        }
      ]
    },
    {
      "cell_type": "code",
      "metadata": {
        "colab": {
          "base_uri": "https://localhost:8080/",
          "height": 421
        },
        "id": "-K_vAh9OBx5n",
        "outputId": "8c38cb97-cbd4-44fc-d5df-2652973a5999"
      },
      "source": [
        "# After successfully training the DQN, Run to below code to view the agent's permormance\n",
        "# Already implemented \n",
        "env = gym.make('CartPole-v0')\n",
        "env = wrap_env(env)\n",
        "\n",
        "frame = env.reset()\n",
        "\n",
        "is_done = False\n",
        "counter = 0\n",
        "tot_reward = 0\n",
        "while not is_done:\n",
        "  with torch.no_grad():\n",
        "    inpt = torch.tensor(frame).float().unsqueeze(0).to(device)\n",
        "    action = dqn_model(inpt).squeeze().argmax().item()\n",
        "    frame, reward, is_done, _ = env.step(action)\n",
        "    counter += 1\n",
        "    tot_reward += reward\n",
        "\n",
        "env.close()\n",
        "show_video()"
      ],
      "execution_count": 17,
      "outputs": [
        {
          "output_type": "display_data",
          "data": {
            "text/html": [
              "<video alt=\"test\" autoplay \n",
              "                loop controls style=\"height: 400px;\">\n",
              "                <source src=\"data:video/mp4;base64,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\" type=\"video/mp4\" />\n",
              "             </video>"
            ],
            "text/plain": [
              "<IPython.core.display.HTML object>"
            ]
          },
          "metadata": {
            "tags": []
          }
        }
      ]
    },
    {
      "cell_type": "code",
      "metadata": {
        "id": "oHzoJdmp-Jwc"
      },
      "source": [
        ""
      ],
      "execution_count": 15,
      "outputs": []
    }
  ]
}